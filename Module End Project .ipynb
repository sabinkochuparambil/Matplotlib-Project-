{
 "cells": [
  {
   "cell_type": "markdown",
   "id": "8d5efa99",
   "metadata": {},
   "source": [
    "# Module End Project"
   ]
  },
  {
   "cell_type": "code",
   "execution_count": 20,
   "id": "9889deae",
   "metadata": {},
   "outputs": [],
   "source": [
    "import pandas as pd\n",
    "import seaborn as sns\n",
    "import matplotlib.pyplot as plt\n",
    "import numpy as np"
   ]
  },
  {
   "cell_type": "code",
   "execution_count": 42,
   "id": "0b36a2be",
   "metadata": {},
   "outputs": [
    {
     "data": {
      "text/html": [
       "<div>\n",
       "<style scoped>\n",
       "    .dataframe tbody tr th:only-of-type {\n",
       "        vertical-align: middle;\n",
       "    }\n",
       "\n",
       "    .dataframe tbody tr th {\n",
       "        vertical-align: top;\n",
       "    }\n",
       "\n",
       "    .dataframe thead th {\n",
       "        text-align: right;\n",
       "    }\n",
       "</style>\n",
       "<table border=\"1\" class=\"dataframe\">\n",
       "  <thead>\n",
       "    <tr style=\"text-align: right;\">\n",
       "      <th></th>\n",
       "      <th>Name</th>\n",
       "      <th>Team</th>\n",
       "      <th>Number</th>\n",
       "      <th>Position</th>\n",
       "      <th>Age</th>\n",
       "      <th>Height</th>\n",
       "      <th>Weight</th>\n",
       "      <th>College</th>\n",
       "      <th>Salary</th>\n",
       "    </tr>\n",
       "  </thead>\n",
       "  <tbody>\n",
       "    <tr>\n",
       "      <th>0</th>\n",
       "      <td>Avery Bradley</td>\n",
       "      <td>Boston Celtics</td>\n",
       "      <td>0</td>\n",
       "      <td>PG</td>\n",
       "      <td>25</td>\n",
       "      <td>06-Feb</td>\n",
       "      <td>180</td>\n",
       "      <td>Texas</td>\n",
       "      <td>7730337.0</td>\n",
       "    </tr>\n",
       "    <tr>\n",
       "      <th>1</th>\n",
       "      <td>Jae Crowder</td>\n",
       "      <td>Boston Celtics</td>\n",
       "      <td>99</td>\n",
       "      <td>SF</td>\n",
       "      <td>25</td>\n",
       "      <td>06-Jun</td>\n",
       "      <td>235</td>\n",
       "      <td>Marquette</td>\n",
       "      <td>6796117.0</td>\n",
       "    </tr>\n",
       "    <tr>\n",
       "      <th>2</th>\n",
       "      <td>John Holland</td>\n",
       "      <td>Boston Celtics</td>\n",
       "      <td>30</td>\n",
       "      <td>SG</td>\n",
       "      <td>27</td>\n",
       "      <td>06-May</td>\n",
       "      <td>205</td>\n",
       "      <td>Boston University</td>\n",
       "      <td>NaN</td>\n",
       "    </tr>\n",
       "    <tr>\n",
       "      <th>3</th>\n",
       "      <td>R.J. Hunter</td>\n",
       "      <td>Boston Celtics</td>\n",
       "      <td>28</td>\n",
       "      <td>SG</td>\n",
       "      <td>22</td>\n",
       "      <td>06-May</td>\n",
       "      <td>185</td>\n",
       "      <td>Georgia State</td>\n",
       "      <td>1148640.0</td>\n",
       "    </tr>\n",
       "    <tr>\n",
       "      <th>4</th>\n",
       "      <td>Jonas Jerebko</td>\n",
       "      <td>Boston Celtics</td>\n",
       "      <td>8</td>\n",
       "      <td>PF</td>\n",
       "      <td>29</td>\n",
       "      <td>06-Oct</td>\n",
       "      <td>231</td>\n",
       "      <td>NaN</td>\n",
       "      <td>5000000.0</td>\n",
       "    </tr>\n",
       "    <tr>\n",
       "      <th>...</th>\n",
       "      <td>...</td>\n",
       "      <td>...</td>\n",
       "      <td>...</td>\n",
       "      <td>...</td>\n",
       "      <td>...</td>\n",
       "      <td>...</td>\n",
       "      <td>...</td>\n",
       "      <td>...</td>\n",
       "      <td>...</td>\n",
       "    </tr>\n",
       "    <tr>\n",
       "      <th>453</th>\n",
       "      <td>Shelvin Mack</td>\n",
       "      <td>Utah Jazz</td>\n",
       "      <td>8</td>\n",
       "      <td>PG</td>\n",
       "      <td>26</td>\n",
       "      <td>06-Mar</td>\n",
       "      <td>203</td>\n",
       "      <td>Butler</td>\n",
       "      <td>2433333.0</td>\n",
       "    </tr>\n",
       "    <tr>\n",
       "      <th>454</th>\n",
       "      <td>Raul Neto</td>\n",
       "      <td>Utah Jazz</td>\n",
       "      <td>25</td>\n",
       "      <td>PG</td>\n",
       "      <td>24</td>\n",
       "      <td>06-Jan</td>\n",
       "      <td>179</td>\n",
       "      <td>NaN</td>\n",
       "      <td>900000.0</td>\n",
       "    </tr>\n",
       "    <tr>\n",
       "      <th>455</th>\n",
       "      <td>Tibor Pleiss</td>\n",
       "      <td>Utah Jazz</td>\n",
       "      <td>21</td>\n",
       "      <td>C</td>\n",
       "      <td>26</td>\n",
       "      <td>07-Mar</td>\n",
       "      <td>256</td>\n",
       "      <td>NaN</td>\n",
       "      <td>2900000.0</td>\n",
       "    </tr>\n",
       "    <tr>\n",
       "      <th>456</th>\n",
       "      <td>Jeff Withey</td>\n",
       "      <td>Utah Jazz</td>\n",
       "      <td>24</td>\n",
       "      <td>C</td>\n",
       "      <td>26</td>\n",
       "      <td>7-0</td>\n",
       "      <td>231</td>\n",
       "      <td>Kansas</td>\n",
       "      <td>947276.0</td>\n",
       "    </tr>\n",
       "    <tr>\n",
       "      <th>457</th>\n",
       "      <td>Priyanka</td>\n",
       "      <td>Utah Jazz</td>\n",
       "      <td>34</td>\n",
       "      <td>C</td>\n",
       "      <td>25</td>\n",
       "      <td>07-Mar</td>\n",
       "      <td>231</td>\n",
       "      <td>Kansas</td>\n",
       "      <td>947276.0</td>\n",
       "    </tr>\n",
       "  </tbody>\n",
       "</table>\n",
       "<p>458 rows × 9 columns</p>\n",
       "</div>"
      ],
      "text/plain": [
       "              Name            Team  Number Position  Age  Height  Weight  \\\n",
       "0    Avery Bradley  Boston Celtics       0       PG   25  06-Feb     180   \n",
       "1      Jae Crowder  Boston Celtics      99       SF   25  06-Jun     235   \n",
       "2     John Holland  Boston Celtics      30       SG   27  06-May     205   \n",
       "3      R.J. Hunter  Boston Celtics      28       SG   22  06-May     185   \n",
       "4    Jonas Jerebko  Boston Celtics       8       PF   29  06-Oct     231   \n",
       "..             ...             ...     ...      ...  ...     ...     ...   \n",
       "453   Shelvin Mack       Utah Jazz       8       PG   26  06-Mar     203   \n",
       "454      Raul Neto       Utah Jazz      25       PG   24  06-Jan     179   \n",
       "455   Tibor Pleiss       Utah Jazz      21        C   26  07-Mar     256   \n",
       "456    Jeff Withey       Utah Jazz      24        C   26     7-0     231   \n",
       "457       Priyanka       Utah Jazz      34        C   25  07-Mar     231   \n",
       "\n",
       "               College     Salary  \n",
       "0                Texas  7730337.0  \n",
       "1            Marquette  6796117.0  \n",
       "2    Boston University        NaN  \n",
       "3        Georgia State  1148640.0  \n",
       "4                  NaN  5000000.0  \n",
       "..                 ...        ...  \n",
       "453             Butler  2433333.0  \n",
       "454                NaN   900000.0  \n",
       "455                NaN  2900000.0  \n",
       "456             Kansas   947276.0  \n",
       "457             Kansas   947276.0  \n",
       "\n",
       "[458 rows x 9 columns]"
      ]
     },
     "execution_count": 42,
     "metadata": {},
     "output_type": "execute_result"
    }
   ],
   "source": [
    "# csv dataset reading\n",
    "df=pd.read_csv(\"myexcel - myexcel.csv (1).csv\")\n",
    "df"
   ]
  },
  {
   "cell_type": "code",
   "execution_count": 43,
   "id": "6b736b0f",
   "metadata": {},
   "outputs": [
    {
     "data": {
      "text/plain": [
       "\"                         Name                    Team  Number Position  Age  Height  Weight                College      Salary\\n0               Avery Bradley          Boston Celtics       0       PG   25  06-Feb     180                  Texas   7730337.0\\n1                 Jae Crowder          Boston Celtics      99       SF   25  06-Jun     235              Marquette   6796117.0\\n2                John Holland          Boston Celtics      30       SG   27  06-May     205      Boston University         NaN\\n3                 R.J. Hunter          Boston Celtics      28       SG   22  06-May     185          Georgia State   1148640.0\\n4               Jonas Jerebko          Boston Celtics       8       PF   29  06-Oct     231                    NaN   5000000.0\\n5                Amir Johnson          Boston Celtics      90       PF   29  06-Sep     240                    NaN  12000000.0\\n6               Jordan Mickey          Boston Celtics      55       PF   21  06-Aug     235                    LSU   1170960.0\\n7                Kelly Olynyk          Boston Celtics      41        C   25     7-0     238                Gonzaga   2165160.0\\n8                Terry Rozier          Boston Celtics      12       PG   22  06-Feb     190             Louisville   1824360.0\\n9                Marcus Smart          Boston Celtics      36       PG   22  06-Apr     220         Oklahoma State   3431040.0\\n10            Jared Sullinger          Boston Celtics       7        C   24  06-Sep     260             Ohio State   2569260.0\\n11              Isaiah Thomas          Boston Celtics       4       PG   27  05-Sep     185             Washington   6912869.0\\n12                Evan Turner          Boston Celtics      11       SG   27  06-Jul     220             Ohio State   3425510.0\\n13                James Young          Boston Celtics      13       SG   20  06-Jun     215               Kentucky   1749840.0\\n14               Tyler Zeller          Boston Celtics      44        C   26     7-0     253         North Carolina   2616975.0\\n15           Bojan Bogdanovic           Brooklyn Nets      44       SG   27  06-Aug     216                    NaN   3425510.0\\n16               Markel Brown           Brooklyn Nets      22       SG   24  06-Mar     190         Oklahoma State    845059.0\\n17            Wayne Ellington           Brooklyn Nets      21       SG   28  06-Apr     200         North Carolina   1500000.0\\n18    Rondae Hollis-Jefferson           Brooklyn Nets      24       SG   21  06-Jul     220                Arizona   1335480.0\\n19               Jarrett Jack           Brooklyn Nets       2       PG   32  06-Mar     200           Georgia Tech   6300000.0\\n20             Sergey Karasev           Brooklyn Nets      10       SG   22  06-Jul     208                    NaN   1599840.0\\n21            Sean Kilpatrick           Brooklyn Nets       6       SG   26  06-Apr     219             Cincinnati    134215.0\\n22               Shane Larkin           Brooklyn Nets       0       PG   23  05-Nov     175             Miami (FL)   1500000.0\\n23                Brook Lopez           Brooklyn Nets      11        C   28     7-0     275               Stanford  19689000.0\\n24           Chris McCullough           Brooklyn Nets       1       PF   21  06-Nov     200               Syracuse   1140240.0\\n25                Willie Reed           Brooklyn Nets      33       PF   26  06-Oct     220            Saint Louis    947276.0\\n26            Thomas Robinson           Brooklyn Nets      41       PF   25  06-Oct     237                 Kansas    981348.0\\n27                 Henry Sims           Brooklyn Nets      14        C   26  06-Oct     248             Georgetown    947276.0\\n28               Donald Sloan           Brooklyn Nets      15       PG   28  06-Mar     205              Texas A&M    947276.0\\n29             Thaddeus Young           Brooklyn Nets      30       PF   27  06-Aug     221           Georgia Tech  11235955.0\\n30              Arron Afflalo         New York Knicks       4       SG   30  06-May     210                   UCLA   8000000.0\\n31               Lou Amundson         New York Knicks      17       PF   33  06-Sep     220                   UNLV   1635476.0\\n32     Thanasis Antetokounmpo         New York Knicks      43       SF   23  06-Jul     205                    NaN     30888.0\\n33            Carmelo Anthony         New York Knicks       7       SF   32  06-Aug     240               Syracuse  22875000.0\\n34              Jose Calderon         New York Knicks       3       PG   34  06-Mar     200                    NaN   7402812.0\\n35           Cleanthony Early         New York Knicks      11       SF   25  06-Aug     210          Wichita State    845059.0\\n36          Langston Galloway         New York Knicks       2       SG   24  06-Feb     200         Saint Joseph's    845059.0\\n37               Jerian Grant         New York Knicks      13       PG   23  06-Apr     195             Notre Dame   1572360.0\\n38                Robin Lopez         New York Knicks       8        C   28     7-0     255               Stanford  12650000.0\\n39               Kyle O'Quinn         New York Knicks       9       PF   26  06-Oct     250          Norfolk State   3750000.0\\n40         Kristaps Porzingis         New York Knicks       6       PF   20  07-Mar     240                    NaN   4131720.0\\n41             Kevin Seraphin         New York Knicks       1        C   26  06-Oct     278                    NaN   2814000.0\\n42               Lance Thomas         New York Knicks      42       SF   28  06-Aug     235                   Duke   1636842.0\\n43              Sasha Vujacic         New York Knicks      18       SG   32  06-Jul     195                    NaN    947276.0\\n44           Derrick Williams         New York Knicks      23       PF   25  06-Aug     240                Arizona   4000000.0\\n45                Tony Wroten         New York Knicks       5       SG   23  06-Jun     205             Washington    167406.0\\n46                Elton Brand      Philadelphia 76ers      42       PF   37  06-Sep     254                   Duke         NaN\\n47              Isaiah Canaan      Philadelphia 76ers       0       PG   25     6-0     201           Murray State    947276.0\\n48           Robert Covington      Philadelphia 76ers      33       SF   25  06-Sep     215        Tennessee State   1000000.0\\n49                Joel Embiid      Philadelphia 76ers      21        C   22     7-0     250                 Kansas   4626960.0\\n50               Jerami Grant      Philadelphia 76ers      39       SF   22  06-Aug     210               Syracuse    845059.0\\n51             Richaun Holmes      Philadelphia 76ers      22       PF   22  06-Oct     245          Bowling Green   1074169.0\\n52                Carl Landry      Philadelphia 76ers       7       PF   32  06-Sep     248                 Purdue   6500000.0\\n53           Kendall Marshall      Philadelphia 76ers       5       PG   24  06-Apr     200         North Carolina   2144772.0\\n54             T.J. McConnell      Philadelphia 76ers      12       PG   24  06-Feb     200                Arizona    525093.0\\n55               Nerlens Noel      Philadelphia 76ers       4       PF   22  06-Nov     228               Kentucky   3457800.0\\n56              Jahlil Okafor      Philadelphia 76ers       8        C   20  06-Nov     275                   Duke   4582680.0\\n57                  Ish Smith      Philadelphia 76ers       1       PG   27     6-0     175            Wake Forest    947276.0\\n58               Nik Stauskas      Philadelphia 76ers      11       SG   22  06-Jun     205               Michigan   2869440.0\\n59            Hollis Thompson      Philadelphia 76ers      31       SG   25  06-Aug     206             Georgetown    947276.0\\n60             Christian Wood      Philadelphia 76ers      35       PF   20  06-Nov     220                   UNLV    525093.0\\n61            Bismack Biyombo         Toronto Raptors       8        C   23  06-Sep     245                    NaN   2814000.0\\n62              Bruno Caboclo         Toronto Raptors      20       SF   20  06-Sep     205                    NaN   1524000.0\\n63            DeMarre Carroll         Toronto Raptors       5       SF   29  06-Aug     212               Missouri  13600000.0\\n64              DeMar DeRozan         Toronto Raptors      10       SG   26  06-Jul     220                    USC  10050000.0\\n65              James Johnson         Toronto Raptors       3       PF   29  06-Sep     250            Wake Forest   2500000.0\\n66                Cory Joseph         Toronto Raptors       6       PG   24  06-Mar     190                  Texas   7000000.0\\n67                 Kyle Lowry         Toronto Raptors       7       PG   30     6-0     205              Villanova  12000000.0\\n68             Lucas Nogueira         Toronto Raptors      92        C   23     7-0     220                    NaN   1842000.0\\n69          Patrick Patterson         Toronto Raptors      54       PF   27  06-Sep     235               Kentucky   6268675.0\\n70              Norman Powell         Toronto Raptors      24       SG   23  06-Apr     215                   UCLA    650000.0\\n71              Terrence Ross         Toronto Raptors      31       SF   25  06-Jul     195             Washington   3553917.0\\n72                 Luis Scola         Toronto Raptors       4       PF   36  06-Sep     240                    NaN   2900000.0\\n73             Jason Thompson         Toronto Raptors       1       PF   29  06-Nov     250                  Rider    245177.0\\n74          Jonas Valanciunas         Toronto Raptors      17        C   24     7-0     255                    NaN   4660482.0\\n75               Delon Wright         Toronto Raptors      55       PG   24  06-May     190                   Utah   1509360.0\\n76            Leandro Barbosa   Golden State Warriors      19       SG   33  06-Mar     194                    NaN   2500000.0\\n77            Harrison Barnes   Golden State Warriors      40       SF   24  06-Aug     225         North Carolina   3873398.0\\n78               Andrew Bogut   Golden State Warriors      12        C   31     7-0     260                   Utah  13800000.0\\n79                  Ian Clark   Golden State Warriors      21       SG   25  06-Mar     175                Belmont    947276.0\\n80              Stephen Curry   Golden State Warriors      30       PG   28  06-Mar     190               Davidson  11370786.0\\n81               Festus Ezeli   Golden State Warriors      31        C   26  06-Nov     265             Vanderbilt   2008748.0\\n82             Draymond Green   Golden State Warriors      23       PF   26  06-Jul     230         Michigan State  14260870.0\\n83             Andre Iguodala   Golden State Warriors       9       SF   32  06-Jun     215                Arizona  11710456.0\\n84           Shaun Livingston   Golden State Warriors      34       PG   30  06-Jul     192                    NaN   5543725.0\\n85               Kevon Looney   Golden State Warriors      36       SF   20  06-Sep     220                   UCLA   1131960.0\\n86       James Michael McAdoo   Golden State Warriors      20       SF   23  06-Sep     240         North Carolina    845059.0\\n87               Brandon Rush   Golden State Warriors       4       SF   30  06-Jun     220                 Kansas   1270964.0\\n88          Marreese Speights   Golden State Warriors       5        C   28  06-Oct     255                Florida   3815000.0\\n89              Klay Thompson   Golden State Warriors      11       SG   26  06-Jul     215       Washington State  15501000.0\\n90           Anderson Varejao   Golden State Warriors      18       PF   33  06-Nov     273                    NaN    289755.0\\n91               Cole Aldrich    Los Angeles Clippers      45        C   27  06-Nov     250                 Kansas   1100602.0\\n92                 Jeff Ayres    Los Angeles Clippers      19       PF   29  06-Sep     250          Arizona State    111444.0\\n93             Jamal Crawford    Los Angeles Clippers      11       SG   36  06-May     195               Michigan   5675000.0\\n94             Branden Dawson    Los Angeles Clippers      22       SF   23  06-Jun     225         Michigan State    525093.0\\n95                 Jeff Green    Los Angeles Clippers       8       SF   29  06-Sep     235             Georgetown   9650000.0\\n96              Blake Griffin    Los Angeles Clippers      32       PF   27  06-Oct     251               Oklahoma  18907726.0\\n97             Wesley Johnson    Los Angeles Clippers      33       SF   28  06-Jul     215               Syracuse   1100602.0\\n98             DeAndre Jordan    Los Angeles Clippers       6        C   27  06-Nov     265              Texas A&M  19689000.0\\n99   Luc Richard Mbah a Moute    Los Angeles Clippers      12       PF   29  06-Aug     230                   UCLA    947276.0\\n100                Chris Paul    Los Angeles Clippers       3       PG   31     6-0     175            Wake Forest  21468695.0\\n101               Paul Pierce    Los Angeles Clippers      34       SF   38  06-Jul     235                 Kansas   3376000.0\\n102            Pablo Prigioni    Los Angeles Clippers       9       PG   39  06-Mar     185                    NaN    947726.0\\n103                 JJ Redick    Los Angeles Clippers       4       SG   31  06-Apr     190                   Duke   7085000.0\\n104             Austin Rivers    Los Angeles Clippers      25       PG   23  06-Apr     200                   Duke   3110796.0\\n105               C.J. Wilcox    Los Angeles Clippers      30       SG   25  06-May     195             Washington   1159680.0\\n106              Brandon Bass      Los Angeles Lakers       2       PF   31  06-Aug     250                    LSU   3000000.0\\n107               Tarik Black      Los Angeles Lakers      28        C   24  06-Sep     250                 Kansas    845059.0\\n108             Anthony Brown      Los Angeles Lakers       3       SF   23  06-Jul     210               Stanford    700000.0\\n109               Kobe Bryant      Los Angeles Lakers      24       SF   37  06-Jun     212                    NaN  25000000.0\\n110           Jordan Clarkson      Los Angeles Lakers       6       PG   24  06-May     194               Missouri    845059.0\\n111               Roy Hibbert      Los Angeles Lakers      17        C   29  07-Feb     270             Georgetown  15592217.0\\n112           Marcelo Huertas      Los Angeles Lakers       9       PG   33  06-Mar     200                    NaN    525093.0\\n113                Ryan Kelly      Los Angeles Lakers       4       PF   25  06-Nov     230                   Duke   1724250.0\\n114           Larry Nance Jr.      Los Angeles Lakers       7       PF   23  06-Sep     230                Wyoming   1155600.0\\n115             Julius Randle      Los Angeles Lakers      30       PF   21  06-Sep     250               Kentucky   3132240.0\\n116          D'Angelo Russell      Los Angeles Lakers       1       PG   20  06-May     195             Ohio State   5103120.0\\n117              Robert Sacre      Los Angeles Lakers      50        C   27     7-0     270                Gonzaga    981348.0\\n118            Louis Williams      Los Angeles Lakers      23       SG   29  06-Jan     175                    NaN   7000000.0\\n119         Metta World Peace      Los Angeles Lakers      37       SF   36  06-Jul     260             St. John's    947276.0\\n120                Nick Young      Los Angeles Lakers       0       SF   31  06-Jul     210                    USC   5219169.0\\n121              Eric Bledsoe            Phoenix Suns       2       PG   26  06-Jan     190               Kentucky  13500000.0\\n122              Devin Booker            Phoenix Suns       1       SG   19  06-Jun     206               Kentucky   2127840.0\\n123            Chase Budinger            Phoenix Suns      10       SF   28  06-Jul     209                Arizona    206192.0\\n124            Tyson Chandler            Phoenix Suns       4        C   33  07-Jan     240                    NaN  13000000.0\\n125            Archie Goodwin            Phoenix Suns      20       SG   21  06-May     200               Kentucky   1160160.0\\n126              John Jenkins            Phoenix Suns      23       SG   25  06-Apr     215             Vanderbilt    981348.0\\n127            Brandon Knight            Phoenix Suns       3       PG   24  06-Mar     189               Kentucky  13500000.0\\n128                  Alex Len            Phoenix Suns      21        C   22  07-Jan     260               Maryland   3807120.0\\n129                 Jon Leuer            Phoenix Suns      30       PF   27  06-Oct     228              Wisconsin   1035000.0\\n130              Phil Pressey            Phoenix Suns      25       PG   25  05-Nov     175               Missouri     55722.0\\n131              Ronnie Price            Phoenix Suns      14       PG   32  06-Feb     190            Utah Valley    947276.0\\n132           Mirza Teletovic            Phoenix Suns      35       PF   30  06-Sep     242                    NaN   5500000.0\\n133               P.J. Tucker            Phoenix Suns      17       SF   31  06-Jun     245                  Texas   5500000.0\\n134               T.J. Warren            Phoenix Suns      12       SF   22  06-Aug     230   North Carolina State   2041080.0\\n135             Alan Williams            Phoenix Suns      15        C   23  06-Aug     260       UC Santa Barbara     83397.0\\n136                Quincy Acy        Sacramento Kings      13       SF   25  06-Jul     240                 Baylor    981348.0\\n137            James Anderson        Sacramento Kings       5       SG   27  06-Jun     213         Oklahoma State   1015421.0\\n138           Marco Belinelli        Sacramento Kings       3       SG   30  06-May     210                    NaN   6060606.0\\n139              Caron Butler        Sacramento Kings      31       SF   36  06-Jul     228            Connecticut   1449187.0\\n140               Omri Casspi        Sacramento Kings      18       SF   27  06-Sep     225                    NaN   2836186.0\\n141       Willie Cauley-Stein        Sacramento Kings       0        C   22     7-0     240               Kentucky   3398280.0\\n142           Darren Collison        Sacramento Kings       7       PG   28     6-0     175                   UCLA   5013559.0\\n143          DeMarcus Cousins        Sacramento Kings      15        C   25  06-Nov     270               Kentucky  15851950.0\\n144                Seth Curry        Sacramento Kings      30       SG   25  06-Feb     185                   Duke    947276.0\\n145                Duje Dukan        Sacramento Kings      26       PF   24  06-Sep     220              Wisconsin    525093.0\\n146                  Rudy Gay        Sacramento Kings       8       SF   29  06-Aug     230            Connecticut  12403101.0\\n147              Kosta Koufos        Sacramento Kings      41        C   27     7-0     265             Ohio State   7700000.0\\n148              Ben McLemore        Sacramento Kings      23       SG   23  06-May     195                 Kansas   3156600.0\\n149             Eric Moreland        Sacramento Kings      25       PF   24  06-Oct     238           Oregon State    845059.0\\n150               Rajon Rondo        Sacramento Kings       9       PG   30  06-Jan     186               Kentucky   9500000.0\\n151          Cameron Bairstow           Chicago Bulls      41       PF   25  06-Sep     250             New Mexico    845059.0\\n152              Aaron Brooks           Chicago Bulls       0       PG   31     6-0     161                 Oregon   2250000.0\\n153              Jimmy Butler           Chicago Bulls      21       SG   26  06-Jul     220              Marquette  16407500.0\\n154             Mike Dunleavy           Chicago Bulls      34       SG   35  06-Sep     230                   Duke   4500000.0\\n155         Cristiano Felicio           Chicago Bulls       6       PF   23  06-Oct     275                    NaN    525093.0\\n156                 Pau Gasol           Chicago Bulls      16        C   35     7-0     250                    NaN   7448760.0\\n157                Taj Gibson           Chicago Bulls      22       PF   30  06-Sep     225                    USC   8500000.0\\n158            Justin Holiday           Chicago Bulls       7       SG   27  06-Jun     185             Washington    947276.0\\n159            Doug McDermott           Chicago Bulls       3       SF   24  06-Aug     225              Creighton   2380440.0\\n160            Nikola Mirotic           Chicago Bulls      44       PF   25  06-Oct     220                    NaN   5543725.0\\n161             E'Twaun Moore           Chicago Bulls      55       SG   27  06-Apr     191                 Purdue   1015421.0\\n162               Joakim Noah           Chicago Bulls      13        C   31  06-Nov     232                Florida  13400000.0\\n163              Bobby Portis           Chicago Bulls       5       PF   21  06-Nov     230               Arkansas   1391160.0\\n164              Derrick Rose           Chicago Bulls       1       PG   27  06-Mar     190                Memphis  20093064.0\\n165                Tony Snell           Chicago Bulls      20       SF   24  06-Jul     200             New Mexico   1535880.0\\n166       Matthew Dellavedova     Cleveland Cavaliers       8       PG   25  06-Apr     198           Saint Mary's   1147276.0\\n167             Channing Frye     Cleveland Cavaliers       9       PF   33  06-Nov     255                Arizona   8193029.0\\n168              Kyrie Irving     Cleveland Cavaliers       2       PG   24  06-Mar     193                   Duke  16407501.0\\n169              LeBron James     Cleveland Cavaliers      23       SF   31  06-Aug     250                    NaN  22970500.0\\n170         Richard Jefferson     Cleveland Cavaliers      24       SF   35  06-Jul     233                Arizona    947276.0\\n171             Dahntay Jones     Cleveland Cavaliers      30       SG   35  06-Jun     225                   Duke         NaN\\n172               James Jones     Cleveland Cavaliers       1       SG   35  06-Aug     218             Miami (FL)    947276.0\\n173                Sasha Kaun     Cleveland Cavaliers      14        C   31  06-Nov     260                 Kansas   1276000.0\\n174                Kevin Love     Cleveland Cavaliers       0       PF   27  06-Oct     251                   UCLA  19689000.0\\n175              Jordan McRae     Cleveland Cavaliers      12       SG   25  06-May     179              Tennessee    111196.0\\n176            Timofey Mozgov     Cleveland Cavaliers      20        C   29  07-Jan     275                    NaN   4950000.0\\n177             Iman Shumpert     Cleveland Cavaliers       4       SG   25  06-May     220           Georgia Tech   8988765.0\\n178                J.R. Smith     Cleveland Cavaliers       5       SG   30  06-Jun     225                    NaN   5000000.0\\n179          Tristan Thompson     Cleveland Cavaliers      13        C   25  06-Sep     238                  Texas  14260870.0\\n180               Mo Williams     Cleveland Cavaliers      52       PG   33  06-Jan     198                Alabama   2100000.0\\n181              Joel Anthony         Detroit Pistons      50        C   33  06-Sep     245                   UNLV   2500000.0\\n182               Aron Baynes         Detroit Pistons      12        C   29  06-Oct     260       Washington State   6500000.0\\n183               Steve Blake         Detroit Pistons      22       PG   36  06-Mar     172               Maryland   2170465.0\\n184             Lorenzo Brown         Detroit Pistons      17       PG   25  06-May     189   North Carolina State    111444.0\\n185            Reggie Bullock         Detroit Pistons      25       SF   25  06-Jul     205         North Carolina   1252440.0\\n186  Kentavious Caldwell-Pope         Detroit Pistons       5       SG   23  06-May     205                Georgia   2891760.0\\n187         Spencer Dinwiddie         Detroit Pistons       8       PG   23  06-Jun     200               Colorado    845059.0\\n188            Andre Drummond         Detroit Pistons       0        C   22  06-Nov     279            Connecticut   3272091.0\\n189             Tobias Harris         Detroit Pistons      34       SF   23  06-Sep     235              Tennessee  16000000.0\\n190           Darrun Hilliard         Detroit Pistons       6       SF   23  06-Jun     205              Villanova    600000.0\\n191            Reggie Jackson         Detroit Pistons       1       PG   26  06-Mar     208         Boston College  13913044.0\\n192           Stanley Johnson         Detroit Pistons       3       SF   20  06-Jul     245                Arizona   2841960.0\\n193               Jodie Meeks         Detroit Pistons      20       SG   28  06-Apr     210               Kentucky   6270000.0\\n194             Marcus Morris         Detroit Pistons      13       PF   26  06-Sep     235                 Kansas   5000000.0\\n195          Anthony Tolliver         Detroit Pistons      43       PF   31  06-Aug     240              Creighton   3000000.0\\n196               Lavoy Allen          Indiana Pacers       5       PF   27  06-Sep     255                 Temple   4050000.0\\n197          Rakeem Christmas          Indiana Pacers      25       PF   24  06-Sep     250               Syracuse   1007026.0\\n198               Monta Ellis          Indiana Pacers      11       SG   30  06-Mar     185                    NaN  10300000.0\\n199               Paul George          Indiana Pacers      13       SF   26  06-Sep     220           Fresno State  17120106.0\\n200               George Hill          Indiana Pacers       3       PG   30  06-Mar     188                  IUPUI   8000000.0\\n201               Jordan Hill          Indiana Pacers      27        C   28  06-Oct     235                Arizona   4000000.0\\n202              Solomon Hill          Indiana Pacers      44       SF   25  06-Jul     225                Arizona   1358880.0\\n203                 Ty Lawson          Indiana Pacers      10       PG   28  05-Nov     195         North Carolina    211744.0\\n204               Ian Mahinmi          Indiana Pacers      28        C   29  06-Nov     250                    NaN   4000000.0\\n205                C.J. Miles          Indiana Pacers       0       SF   29  06-Jun     231                    NaN   4394225.0\\n206        Glenn Robinson III          Indiana Pacers      40       SG   22  06-Jul     222               Michigan   1100000.0\\n207            Rodney Stuckey          Indiana Pacers       2       PG   30  06-May     205     Eastern Washington   7000000.0\\n208              Myles Turner          Indiana Pacers      33       PF   20  06-Nov     243                  Texas   2357760.0\\n209        Shayne Whittington          Indiana Pacers      42       PF   25  06-Nov     250       Western Michigan    845059.0\\n210                 Joe Young          Indiana Pacers       1       PG   23  06-Feb     180                 Oregon   1007026.0\\n211     Giannis Antetokounmpo         Milwaukee Bucks      34       SF   21  06-Nov     222                    NaN   1953960.0\\n212            Jerryd Bayless         Milwaukee Bucks      19       PG   27  06-Mar     200                Arizona   3000000.0\\n213   Michael Carter-Williams         Milwaukee Bucks       5       PG   24  06-Jun     190               Syracuse   2399040.0\\n214          Jared Cunningham         Milwaukee Bucks       9       SG   25  06-Apr     195           Oregon State    947276.0\\n215               Tyler Ennis         Milwaukee Bucks      11       PG   21  06-Mar     194               Syracuse   1662360.0\\n216               John Henson         Milwaukee Bucks      31       PF   25  06-Nov     229         North Carolina   2943221.0\\n217             Damien Inglis         Milwaukee Bucks      17       SF   21  06-Aug     246                    NaN    855000.0\\n218                 O.J. Mayo         Milwaukee Bucks       3       SG   28  06-May     210                    USC   8000000.0\\n219           Khris Middleton         Milwaukee Bucks      22       SG   24  06-Aug     234              Texas A&M  14700000.0\\n220               Greg Monroe         Milwaukee Bucks      15        C   26  06-Nov     265             Georgetown  16407500.0\\n221               Steve Novak         Milwaukee Bucks       6       SF   32  06-Oct     225              Marquette    295327.0\\n222       Johnny O'Bryant III         Milwaukee Bucks      77       PF   23  06-Sep     257                    LSU    845059.0\\n223             Jabari Parker         Milwaukee Bucks      12       PF   21  06-Aug     250                   Duke   5152440.0\\n224             Miles Plumlee         Milwaukee Bucks      18        C   27  06-Nov     249                   Duke   2109294.0\\n225           Greivis Vasquez         Milwaukee Bucks      21       PG   29  06-Jun     217               Maryland   6600000.0\\n226             Rashad Vaughn         Milwaukee Bucks      20       SG   19  06-Jun     202                   UNLV   1733040.0\\n227           Justin Anderson        Dallas Mavericks       1       SG   22  06-Jun     228               Virginia   1449000.0\\n228                J.J. Barea        Dallas Mavericks       5       PG   31     6-0     185           Northeastern   4290000.0\\n229              Jeremy Evans        Dallas Mavericks      21       SF   28  06-Sep     200       Western Kentucky   1100602.0\\n230            Raymond Felton        Dallas Mavericks       2       PG   31  06-Jan     205         North Carolina   3950313.0\\n231              Devin Harris        Dallas Mavericks      34       PG   33  06-Mar     185              Wisconsin   4053446.0\\n232                 David Lee        Dallas Mavericks      42       PF   33  06-Sep     245                Florida   2085671.0\\n233           Wesley Matthews        Dallas Mavericks      23       SG   29  06-May     220              Marquette  16407500.0\\n234              JaVale McGee        Dallas Mavericks      11        C   28     7-0     270                 Nevada   1270964.0\\n235               Salah Mejri        Dallas Mavericks      50        C   29  07-Feb     245                    NaN    525093.0\\n236             Dirk Nowitzki        Dallas Mavericks      41       PF   37     7-0     245                    NaN   8333334.0\\n237             Zaza Pachulia        Dallas Mavericks      27        C   32  06-Nov     275                    NaN   5200000.0\\n238          Chandler Parsons        Dallas Mavericks      25       SF   27  06-Oct     230                Florida  15361500.0\\n239             Dwight Powell        Dallas Mavericks       7       PF   24  06-Nov     240               Stanford    845059.0\\n240        Charlie Villanueva        Dallas Mavericks       3       PF   31  06-Nov     232            Connecticut    947276.0\\n241            Deron Williams        Dallas Mavericks       8       PG   31  06-Mar     200               Illinois   5378974.0\\n242              Trevor Ariza         Houston Rockets       1       SF   30  06-Aug     215                   UCLA   8193030.0\\n243           Michael Beasley         Houston Rockets       8       SF   27  06-Oct     235           Kansas State    306527.0\\n244          Patrick Beverley         Houston Rockets       2       PG   27  06-Jan     185               Arkansas   6486486.0\\n245              Corey Brewer         Houston Rockets      33       SG   30  06-Sep     186                Florida   8229375.0\\n246              Clint Capela         Houston Rockets      15       PF   22  06-Oct     240                    NaN   1242720.0\\n247                Sam Dekker         Houston Rockets       7       SF   22  06-Sep     230              Wisconsin   1646400.0\\n248          Andrew Goudelock         Houston Rockets       0       PG   27  06-Mar     200             Charleston    200600.0\\n249              James Harden         Houston Rockets      13       SG   26  06-May     220          Arizona State  15756438.0\\n250          Montrezl Harrell         Houston Rockets      35       PF   22  06-Aug     240             Louisville   1000000.0\\n251             Dwight Howard         Houston Rockets      12        C   30  06-Nov     265                    NaN  22359364.0\\n252            Terrence Jones         Houston Rockets       6       PF   24  06-Sep     252               Kentucky   2489530.0\\n253            K.J. McDaniels         Houston Rockets      32       SG   23  06-Jun     205                Clemson   3189794.0\\n254        Donatas Motiejunas         Houston Rockets      20       PF   25     7-0     222                    NaN   2288205.0\\n255                Josh Smith         Houston Rockets       5        C   30  06-Sep     225                    NaN    947276.0\\n256               Jason Terry         Houston Rockets      31       SG   38  06-Feb     185                Arizona    947276.0\\n257              Jordan Adams       Memphis Grizzlies       3       SG   21  06-May     209                   UCLA   1404600.0\\n258                Tony Allen       Memphis Grizzlies       9       SG   34  06-Apr     213         Oklahoma State   5158539.0\\n259            Chris Andersen       Memphis Grizzlies       7       PF   37  06-Oct     245          Blinn College   5000000.0\\n260               Matt Barnes       Memphis Grizzlies      22       SF   36  06-Jul     226                   UCLA   3542500.0\\n261              Vince Carter       Memphis Grizzlies      15       SG   39  06-Jun     220         North Carolina   4088019.0\\n262               Mike Conley       Memphis Grizzlies      11       PG   28  06-Jan     175             Ohio State   9588426.0\\n263              Bryce Cotton       Memphis Grizzlies       8       PG   23  06-Jan     165             Providence    700902.0\\n264             Jordan Farmar       Memphis Grizzlies       4       PG   29  06-Feb     180                   UCLA         NaN\\n265                Marc Gasol       Memphis Grizzlies      33        C   31  07-Jan     255                    NaN  19688000.0\\n266            JaMychal Green       Memphis Grizzlies       0       PF   25  06-Sep     227                Alabama    845059.0\\n267             P.J. Hairston       Memphis Grizzlies      19       SF   23  06-Jun     230         North Carolina   1201440.0\\n268             Jarell Martin       Memphis Grizzlies      10       PF   22  06-Oct     239                    LSU   1230840.0\\n269              Ray McCallum       Memphis Grizzlies       5       PG   24  06-Mar     190                Detroit         NaN\\n270            Xavier Munford       Memphis Grizzlies      14       PG   24  06-Mar     180           Rhode Island         NaN\\n271             Zach Randolph       Memphis Grizzlies      50       PF   34  06-Sep     260         Michigan State   9638555.0\\n272          Lance Stephenson       Memphis Grizzlies       1       SF   25  06-May     230             Cincinnati   9000000.0\\n273            Alex Stepheson       Memphis Grizzlies      35       PF   28  06-Oct     270                    USC         NaN\\n274            Brandan Wright       Memphis Grizzlies      34       PF   28  06-Oct     210         North Carolina   5464000.0\\n275             Alexis Ajinca    New Orleans Pelicans      42        C   28  07-Feb     248                    NaN   4389607.0\\n276             Ryan Anderson    New Orleans Pelicans      33       PF   28  06-Oct     240             California   8500000.0\\n277                 Omer Asik    New Orleans Pelicans       3        C   29     7-0     255                    NaN   9213483.0\\n278              Luke Babbitt    New Orleans Pelicans       8       SF   26  06-Sep     225                 Nevada   1100602.0\\n279               Norris Cole    New Orleans Pelicans      30       PG   27  06-Feb     175        Cleveland State   3036927.0\\n280          Dante Cunningham    New Orleans Pelicans      44       PF   29  06-Aug     230              Villanova   2850000.0\\n281             Anthony Davis    New Orleans Pelicans      23       PF   23  06-Oct     253               Kentucky   7070730.0\\n282        Bryce Dejean-Jones    New Orleans Pelicans      31       SG   23  06-Jun     203             Iowa State    169883.0\\n283             Toney Douglas    New Orleans Pelicans      16       PG   30  06-Feb     195          Florida State   1164858.0\\n284               James Ennis    New Orleans Pelicans       4       SF   25  06-Jul     210       Long Beach State    845059.0\\n285              Tyreke Evans    New Orleans Pelicans       1       SG   26  06-Jun     220                Memphis  10734586.0\\n286               Tim Frazier    New Orleans Pelicans       2       PG   25  06-Jan     170             Penn State    845059.0\\n287                Alonzo Gee    New Orleans Pelicans      15       SF   29  06-Jun     225                Alabama   1320000.0\\n288               Eric Gordon    New Orleans Pelicans      10       SG   27  06-Apr     215                Indiana  15514031.0\\n289           Jordan Hamilton    New Orleans Pelicans      25       SG   25  06-Jul     220                  Texas   1015421.0\\n290              Jrue Holiday    New Orleans Pelicans      11       PG   25  06-Apr     205                   UCLA  10595507.0\\n291           Orlando Johnson    New Orleans Pelicans       0       SG   27  06-May     220       UC Santa Barbara     55722.0\\n292          Kendrick Perkins    New Orleans Pelicans       5        C   31  06-Oct     270                    NaN    947276.0\\n293          Quincy Pondexter    New Orleans Pelicans      20       SF   28  06-Jul     220             Washington   3382023.0\\n294         LaMarcus Aldridge       San Antonio Spurs      12       PF   30  06-Nov     240                  Texas  19689000.0\\n295             Kyle Anderson       San Antonio Spurs       1       SF   22  06-Sep     230                   UCLA   1142880.0\\n296               Matt Bonner       San Antonio Spurs      15        C   36  06-Oct     235                Florida    947276.0\\n297                Boris Diaw       San Antonio Spurs      33        C   34  06-Aug     250                    NaN   7500000.0\\n298                Tim Duncan       San Antonio Spurs      21        C   40  06-Nov     250            Wake Forest   5250000.0\\n299             Manu Ginobili       San Antonio Spurs      20       SG   38  06-Jun     205                    NaN   2814000.0\\n300               Danny Green       San Antonio Spurs      14       SG   28  06-Jun     215         North Carolina  10000000.0\\n301             Kawhi Leonard       San Antonio Spurs       2       SF   24  06-Jul     230        San Diego State  16407500.0\\n302          Boban Marjanovic       San Antonio Spurs      40        C   27  07-Mar     290                    NaN   1200000.0\\n303              Kevin Martin       San Antonio Spurs      23       SG   33  06-Jul     199       Western Carolina    200600.0\\n304              Andre Miller       San Antonio Spurs      24       PG   40  06-Mar     200                   Utah    250750.0\\n305               Patty Mills       San Antonio Spurs       8       PG   27     6-0     185           Saint Mary's   3578947.0\\n306               Tony Parker       San Antonio Spurs       9       PG   34  06-Feb     185                    NaN  13437500.0\\n307          Jonathon Simmons       San Antonio Spurs      17       SG   26  06-Jun     195                Houston    525093.0\\n308                David West       San Antonio Spurs      30       PF   35  06-Sep     250                 Xavier   1499187.0\\n309             Kent Bazemore           Atlanta Hawks      24       SF   26  06-May     201           Old Dominion   2000000.0\\n310          Tim Hardaway Jr.           Atlanta Hawks      10       SG   24  06-Jun     205               Michigan   1304520.0\\n311              Kirk Hinrich           Atlanta Hawks      12       SG   35  06-Apr     190                 Kansas   2854940.0\\n312                Al Horford           Atlanta Hawks      15        C   30  06-Oct     245                Florida  12000000.0\\n313            Kris Humphries           Atlanta Hawks      43       PF   31  06-Sep     235              Minnesota   1000000.0\\n314               Kyle Korver           Atlanta Hawks      26       SG   35  06-Jul     212              Creighton   5746479.0\\n315              Paul Millsap           Atlanta Hawks       4       PF   31  06-Aug     246         Louisiana Tech  18671659.0\\n316              Mike Muscala           Atlanta Hawks      31       PF   24  06-Nov     240               Bucknell    947276.0\\n317           Lamar Patterson           Atlanta Hawks      13       SG   24  06-May     225             Pittsburgh    525093.0\\n318           Dennis Schroder           Atlanta Hawks      17       PG   22  06-Jan     172                    NaN   1763400.0\\n319                Mike Scott           Atlanta Hawks      32       PF   27  06-Aug     237               Virginia   3333333.0\\n320           Thabo Sefolosha           Atlanta Hawks      25       SF   32  06-Jul     220                    NaN   4000000.0\\n321            Tiago Splitter           Atlanta Hawks      11        C   31  06-Nov     245                    NaN   9756250.0\\n322            Walter Tavares           Atlanta Hawks      22        C   24  07-Mar     260                    NaN   1000000.0\\n323               Jeff Teague           Atlanta Hawks       0       PG   27  06-Feb     186            Wake Forest   8000000.0\\n324             Nicolas Batum       Charlotte Hornets       5       SG   27  06-Aug     200                    NaN  13125306.0\\n325              Troy Daniels       Charlotte Hornets      30       SG   24  06-Apr     205  Virginia Commonwealth    947276.0\\n326           Jorge Gutierrez       Charlotte Hornets      12       PG   27  06-Mar     189             California    189455.0\\n327          Tyler Hansbrough       Charlotte Hornets      50       PF   30  06-Sep     250         North Carolina    947276.0\\n328            Aaron Harrison       Charlotte Hornets       9       SG   21  06-Jun     210               Kentucky    525093.0\\n329             Spencer Hawes       Charlotte Hornets       0       PF   28  07-Jan     245             Washington   6110034.0\\n330              Al Jefferson       Charlotte Hornets      25        C   31  06-Oct     289                    NaN  13500000.0\\n331        Frank Kaminsky III       Charlotte Hornets      44        C   23     7-0     240              Wisconsin   2612520.0\\n332    Michael Kidd-Gilchrist       Charlotte Hornets      14       SF   22  06-Jul     232               Kentucky   6331404.0\\n333               Jeremy Lamb       Charlotte Hornets       3       SG   24  06-May     185            Connecticut   3034356.0\\n334              Courtney Lee       Charlotte Hornets       1       SG   30  06-May     200       Western Kentucky   5675000.0\\n335                Jeremy Lin       Charlotte Hornets       7       PG   27  06-Mar     200                Harvard   2139000.0\\n336              Kemba Walker       Charlotte Hornets      15       PG   26  06-Jan     184            Connecticut  12000000.0\\n337           Marvin Williams       Charlotte Hornets       2       PF   29  06-Sep     237         North Carolina   7000000.0\\n338               Cody Zeller       Charlotte Hornets      40        C   23     7-0     240                Indiana   4204200.0\\n339                Chris Bosh              Miami Heat       1       PF   32  06-Nov     235           Georgia Tech  22192730.0\\n340                 Luol Deng              Miami Heat       9       SF   31  06-Sep     220                   Duke  10151612.0\\n341              Goran Dragic              Miami Heat       7       PG   30  06-Mar     190                    NaN  14783000.0\\n342              Gerald Green              Miami Heat      14       SF   30  06-Jul     205                    NaN    947276.0\\n343             Udonis Haslem              Miami Heat      40       PF   36  06-Aug     235                Florida   2854940.0\\n344               Joe Johnson              Miami Heat       2       SF   34  06-Jul     240               Arkansas    261894.0\\n345             Tyler Johnson              Miami Heat       8       SG   24  06-Apr     186           Fresno State    845059.0\\n346            Josh McRoberts              Miami Heat       4       PF   29  06-Oct     240                   Duke   5543725.0\\n347           Josh Richardson              Miami Heat       0       SG   22  06-Jun     200              Tennessee    525093.0\\n348         Amar'e Stoudemire              Miami Heat       5       PF   33  06-Oct     245                    NaN    947276.0\\n349               Dwyane Wade              Miami Heat       3       SG   34  06-Apr     220              Marquette  20000000.0\\n350             Briante Weber              Miami Heat      12       PG   23  06-Feb     165  Virginia Commonwealth         NaN\\n351          Hassan Whiteside              Miami Heat      21        C   26     7-0     265               Marshall    981348.0\\n352           Justise Winslow              Miami Heat      20       SF   20  06-Jul     225                   Duke   2481720.0\\n353             Dorell Wright              Miami Heat      11       SF   30  06-Sep     205                    NaN         NaN\\n354            Dewayne Dedmon           Orlando Magic       3        C   26     7-0     245                    USC    947276.0\\n355             Evan Fournier           Orlando Magic      10       SG   23  06-Jul     205                    NaN   2288205.0\\n356              Aaron Gordon           Orlando Magic       0       PF   20  06-Sep     220                Arizona   4171680.0\\n357             Mario Hezonja           Orlando Magic      23       SG   21  06-Aug     218                    NaN   3741480.0\\n358            Ersan Ilyasova           Orlando Magic       7       PF   29  06-Oct     235                    NaN   7900000.0\\n359          Brandon Jennings           Orlando Magic      55       PG   26  06-Jan     169                    NaN   8344497.0\\n360              Devyn Marble           Orlando Magic      11       SF   23  06-Jun     200                   Iowa    845059.0\\n361            Shabazz Napier           Orlando Magic      13       PG   24  06-Jan     175            Connecticut   1294440.0\\n362          Andrew Nicholson           Orlando Magic      44       PF   26  06-Sep     250        St. Bonaventure   2380593.0\\n363            Victor Oladipo           Orlando Magic       5       SG   24  06-Apr     210                Indiana   5192520.0\\n364             Elfrid Payton           Orlando Magic       4       PG   22  06-Apr     185    Louisiana-Lafayette   2505720.0\\n365               Jason Smith           Orlando Magic      14       PF   30     7-0     240         Colorado State   4300000.0\\n366            Nikola Vucevic           Orlando Magic       9        C   25     7-0     260                    USC  11250000.0\\n367               C.J. Watson           Orlando Magic      32       PG   32  06-Feb     175              Tennessee   5000000.0\\n368             Alan Anderson      Washington Wizards       6       SG   33  06-Jun     220         Michigan State   4000000.0\\n369              Bradley Beal      Washington Wizards       3       SG   22  06-May     207                Florida   5694674.0\\n370              Jared Dudley      Washington Wizards       1       SF   30  06-Jul     225         Boston College   4375000.0\\n371              Jarell Eddie      Washington Wizards       8       SG   24  06-Jul     218          Virginia Tech    561716.0\\n372               Drew Gooden      Washington Wizards      90       PF   34  06-Oct     250                 Kansas   3300000.0\\n373             Marcin Gortat      Washington Wizards      13        C   32  06-Nov     240                    NaN  11217391.0\\n374                JJ Hickson      Washington Wizards      21        C   27  06-Sep     242   North Carolina State    273038.0\\n375              Nene Hilario      Washington Wizards      42        C   33  06-Nov     250                    NaN  13000000.0\\n376           Markieff Morris      Washington Wizards       5       PF   26  06-Oct     245                 Kansas   8000000.0\\n377           Kelly Oubre Jr.      Washington Wizards      12       SF   20  06-Jul     205                 Kansas   1920240.0\\n378           Otto Porter Jr.      Washington Wizards      22       SF   23  06-Aug     198             Georgetown   4662960.0\\n379            Ramon Sessions      Washington Wizards       7       PG   30  06-Mar     190                 Nevada   2170465.0\\n380            Garrett Temple      Washington Wizards      17       SG   30  06-Jun     195                    LSU   1100602.0\\n381           Marcus Thornton      Washington Wizards      15       SF   29  06-Apr     205                    LSU    200600.0\\n382                 John Wall      Washington Wizards       2       PG   25  06-Apr     195               Kentucky  15851950.0\\n383            Darrell Arthur          Denver Nuggets       0       PF   28  06-Sep     235                 Kansas   2814000.0\\n384             D.J. Augustin          Denver Nuggets      12       PG   28     6-0     183                  Texas   3000000.0\\n385               Will Barton          Denver Nuggets       5       SF   25  06-Jun     175                Memphis   3533333.0\\n386           Wilson Chandler          Denver Nuggets      21       SF   29  06-Aug     225                 DePaul  10449438.0\\n387            Kenneth Faried          Denver Nuggets      35       PF   26  06-Aug     228         Morehead State  11235955.0\\n388          Danilo Gallinari          Denver Nuggets       8       SF   27  06-Oct     225                    NaN  14000000.0\\n389               Gary Harris          Denver Nuggets      14       SG   21  06-Apr     210         Michigan State   1584480.0\\n390              Nikola Jokic          Denver Nuggets      15        C   21  06-Oct     250                    NaN   1300000.0\\n391         Joffrey Lauvergne          Denver Nuggets      77        C   24  06-Nov     220                    NaN   1709719.0\\n392               Mike Miller          Denver Nuggets       3       SG   36  06-Aug     218                Florida    947276.0\\n393           Emmanuel Mudiay          Denver Nuggets       0       PG   20  06-May     200                    NaN   3102240.0\\n394             Jameer Nelson          Denver Nuggets       1       PG   34     6-0     190         Saint Joseph's   4345000.0\\n395              Jusuf Nurkic          Denver Nuggets      23        C   21     7-0     280                    NaN   1842000.0\\n396            JaKarr Sampson          Denver Nuggets       9       SG   23  06-Sep     214             St. John's    258489.0\\n397              Axel Toupane          Denver Nuggets       6       SG   23  06-Jul     210                    NaN         NaN\\n398           Nemanja Bjelica  Minnesota Timberwolves      88       PF   28  06-Oct     240                    NaN   3950001.0\\n399              Gorgui Dieng  Minnesota Timberwolves       5        C   26  06-Nov     241             Louisville   1474440.0\\n400             Kevin Garnett  Minnesota Timberwolves      21       PF   40  06-Nov     240                    NaN   8500000.0\\n401                Tyus Jones  Minnesota Timberwolves       1       PG   20  06-Feb     195                   Duke   1282080.0\\n402               Zach LaVine  Minnesota Timberwolves       8       PG   21  06-May     189                   UCLA   2148360.0\\n403          Shabazz Muhammad  Minnesota Timberwolves      15       SF   23  06-Jun     223                   UCLA   2056920.0\\n404             Adreian Payne  Minnesota Timberwolves      33       PF   25  06-Oct     237         Michigan State   1938840.0\\n405            Nikola Pekovic  Minnesota Timberwolves      14        C   30  06-Nov     307                    NaN  12100000.0\\n406           Tayshaun Prince  Minnesota Timberwolves      12       SF   36  06-Sep     212               Kentucky    947276.0\\n407               Ricky Rubio  Minnesota Timberwolves       9       PG   25  06-Apr     194                    NaN  12700000.0\\n408              Damjan Rudez  Minnesota Timberwolves      10       SF   29  06-Sep     230                    NaN   1149500.0\\n409                Greg Smith  Minnesota Timberwolves       4       PF   25  06-Oct     250           Fresno State         NaN\\n410        Karl-Anthony Towns  Minnesota Timberwolves      32        C   20     7-0     244               Kentucky   5703600.0\\n411            Andrew Wiggins  Minnesota Timberwolves      22       SG   21  06-Aug     199                 Kansas   5758680.0\\n412              Steven Adams   Oklahoma City Thunder      12        C   22     7-0     255             Pittsburgh   2279040.0\\n413             Nick Collison   Oklahoma City Thunder       4       PF   35  06-Oct     255                 Kansas   3750000.0\\n414              Kevin Durant   Oklahoma City Thunder      35       SF   27  06-Sep     240                  Texas  20158622.0\\n415                Randy Foye   Oklahoma City Thunder       6       SG   32  06-Apr     213              Villanova   3135000.0\\n416              Josh Huestis   Oklahoma City Thunder      34       SF   24  06-Jul     230               Stanford   1140240.0\\n417               Serge Ibaka   Oklahoma City Thunder       9       PF   26  06-Oct     245                    NaN  12250000.0\\n418               Enes Kanter   Oklahoma City Thunder      11        C   24  06-Nov     245               Kentucky  16407500.0\\n419              Mitch McGary   Oklahoma City Thunder      33       PF   24  06-Oct     255               Michigan   1463040.0\\n420             Nazr Mohammed   Oklahoma City Thunder      13        C   38  06-Oct     250               Kentucky    222888.0\\n421            Anthony Morrow   Oklahoma City Thunder       2       SG   30  06-May     210           Georgia Tech   3344000.0\\n422             Cameron Payne   Oklahoma City Thunder      22       PG   21  06-Mar     185           Murray State   2021520.0\\n423            Andre Roberson   Oklahoma City Thunder      21       SG   24  06-Jul     210               Colorado   1210800.0\\n424              Kyle Singler   Oklahoma City Thunder       5       SF   28  06-Aug     228                   Duke   4500000.0\\n425              Dion Waiters   Oklahoma City Thunder       3       SG   24  06-Apr     220               Syracuse   5138430.0\\n426         Russell Westbrook   Oklahoma City Thunder       0       PG   27  06-Mar     200                   UCLA  16744218.0\\n427           Cliff Alexander  Portland Trail Blazers      34       PF   20  06-Aug     240                 Kansas    525093.0\\n428           Al-Farouq Aminu  Portland Trail Blazers       8       SF   25  06-Sep     215            Wake Forest   8042895.0\\n429           Pat Connaughton  Portland Trail Blazers       5       SG   23  06-May     206             Notre Dame    625093.0\\n430              Allen Crabbe  Portland Trail Blazers      23       SG   24  06-Jun     210             California    947276.0\\n431                  Ed Davis  Portland Trail Blazers      17        C   27  06-Oct     240         North Carolina   6980802.0\\n432          Maurice Harkless  Portland Trail Blazers       4       SF   23  06-Sep     215             St. John's   2894059.0\\n433          Gerald Henderson  Portland Trail Blazers       9       SG   28  06-May     215                   Duke   6000000.0\\n434               Chris Kaman  Portland Trail Blazers      35        C   34     7-0     265       Central Michigan   5016000.0\\n435            Meyers Leonard  Portland Trail Blazers      11       PF   24  07-Jan     245               Illinois   3075880.0\\n436            Damian Lillard  Portland Trail Blazers       0       PG   25  06-Mar     195            Weber State   4236287.0\\n437             C.J. McCollum  Portland Trail Blazers       3       SG   24  06-Apr     200                 Lehigh   2525160.0\\n438              Luis Montero  Portland Trail Blazers      44       SG   23  06-Jul     185         Westchester CC    525093.0\\n439             Mason Plumlee  Portland Trail Blazers      24        C   26  06-Nov     235                   Duke   1415520.0\\n440             Brian Roberts  Portland Trail Blazers       2       PG   30  06-Jan     173                 Dayton   2854940.0\\n441               Noah Vonleh  Portland Trail Blazers      21       PF   20  06-Sep     240                Indiana   2637720.0\\n442             Trevor Booker               Utah Jazz      33       PF   28  06-Aug     228                Clemson   4775000.0\\n443                Trey Burke               Utah Jazz       3       PG   23  06-Jan     191               Michigan   2658240.0\\n444                Alec Burks               Utah Jazz      10       SG   24  06-Jun     214               Colorado   9463484.0\\n445                Dante Exum               Utah Jazz      11       PG   20  06-Jun     190                    NaN   3777720.0\\n446            Derrick Favors               Utah Jazz      15       PF   24  06-Oct     265           Georgia Tech  12000000.0\\n447               Rudy Gobert               Utah Jazz      27        C   23  07-Jan     245                    NaN   1175880.0\\n448            Gordon Hayward               Utah Jazz      20       SF   26  06-Aug     226                 Butler  15409570.0\\n449               Rodney Hood               Utah Jazz       5       SG   23  06-Aug     206                   Duke   1348440.0\\n450                Joe Ingles               Utah Jazz       2       SF   28  06-Aug     226                    NaN   2050000.0\\n451             Chris Johnson               Utah Jazz      23       SF   26  06-Jun     206                 Dayton    981348.0\\n452                Trey Lyles               Utah Jazz      41       PF   20  06-Oct     234               Kentucky   2239800.0\\n453              Shelvin Mack               Utah Jazz       8       PG   26  06-Mar     203                 Butler   2433333.0\\n454                 Raul Neto               Utah Jazz      25       PG   24  06-Jan     179                    NaN    900000.0\\n455              Tibor Pleiss               Utah Jazz      21        C   26  07-Mar     256                    NaN   2900000.0\\n456               Jeff Withey               Utah Jazz      24        C   26     7-0     231                 Kansas    947276.0\\n457                  Priyanka               Utah Jazz      34        C   25  07-Mar     231                 Kansas    947276.0\""
      ]
     },
     "execution_count": 43,
     "metadata": {},
     "output_type": "execute_result"
    }
   ],
   "source": [
    "df.to_string() # used to print all data from given dataset"
   ]
  },
  {
   "cell_type": "code",
   "execution_count": 38,
   "id": "7889700f",
   "metadata": {
    "scrolled": true
   },
   "outputs": [
    {
     "data": {
      "text/html": [
       "<div>\n",
       "<style scoped>\n",
       "    .dataframe tbody tr th:only-of-type {\n",
       "        vertical-align: middle;\n",
       "    }\n",
       "\n",
       "    .dataframe tbody tr th {\n",
       "        vertical-align: top;\n",
       "    }\n",
       "\n",
       "    .dataframe thead th {\n",
       "        text-align: right;\n",
       "    }\n",
       "</style>\n",
       "<table border=\"1\" class=\"dataframe\">\n",
       "  <thead>\n",
       "    <tr style=\"text-align: right;\">\n",
       "      <th></th>\n",
       "      <th>Name</th>\n",
       "      <th>Team</th>\n",
       "      <th>Number</th>\n",
       "      <th>Position</th>\n",
       "      <th>Age</th>\n",
       "      <th>Height</th>\n",
       "      <th>Weight</th>\n",
       "      <th>College</th>\n",
       "      <th>Salary</th>\n",
       "    </tr>\n",
       "  </thead>\n",
       "  <tbody>\n",
       "    <tr>\n",
       "      <th>0</th>\n",
       "      <td>Avery Bradley</td>\n",
       "      <td>Boston Celtics</td>\n",
       "      <td>0</td>\n",
       "      <td>PG</td>\n",
       "      <td>25</td>\n",
       "      <td>173</td>\n",
       "      <td>180</td>\n",
       "      <td>Texas</td>\n",
       "      <td>7730337.0</td>\n",
       "    </tr>\n",
       "    <tr>\n",
       "      <th>1</th>\n",
       "      <td>Jae Crowder</td>\n",
       "      <td>Boston Celtics</td>\n",
       "      <td>99</td>\n",
       "      <td>SF</td>\n",
       "      <td>25</td>\n",
       "      <td>179</td>\n",
       "      <td>235</td>\n",
       "      <td>Marquette</td>\n",
       "      <td>6796117.0</td>\n",
       "    </tr>\n",
       "    <tr>\n",
       "      <th>2</th>\n",
       "      <td>John Holland</td>\n",
       "      <td>Boston Celtics</td>\n",
       "      <td>30</td>\n",
       "      <td>SG</td>\n",
       "      <td>27</td>\n",
       "      <td>151</td>\n",
       "      <td>205</td>\n",
       "      <td>Boston University</td>\n",
       "      <td>NaN</td>\n",
       "    </tr>\n",
       "    <tr>\n",
       "      <th>3</th>\n",
       "      <td>R.J. Hunter</td>\n",
       "      <td>Boston Celtics</td>\n",
       "      <td>28</td>\n",
       "      <td>SG</td>\n",
       "      <td>22</td>\n",
       "      <td>160</td>\n",
       "      <td>185</td>\n",
       "      <td>Georgia State</td>\n",
       "      <td>1148640.0</td>\n",
       "    </tr>\n",
       "    <tr>\n",
       "      <th>4</th>\n",
       "      <td>Jonas Jerebko</td>\n",
       "      <td>Boston Celtics</td>\n",
       "      <td>8</td>\n",
       "      <td>PF</td>\n",
       "      <td>29</td>\n",
       "      <td>157</td>\n",
       "      <td>231</td>\n",
       "      <td>NaN</td>\n",
       "      <td>5000000.0</td>\n",
       "    </tr>\n",
       "  </tbody>\n",
       "</table>\n",
       "</div>"
      ],
      "text/plain": [
       "            Name            Team  Number Position  Age  Height  Weight  \\\n",
       "0  Avery Bradley  Boston Celtics       0       PG   25     173     180   \n",
       "1    Jae Crowder  Boston Celtics      99       SF   25     179     235   \n",
       "2   John Holland  Boston Celtics      30       SG   27     151     205   \n",
       "3    R.J. Hunter  Boston Celtics      28       SG   22     160     185   \n",
       "4  Jonas Jerebko  Boston Celtics       8       PF   29     157     231   \n",
       "\n",
       "             College     Salary  \n",
       "0              Texas  7730337.0  \n",
       "1          Marquette  6796117.0  \n",
       "2  Boston University        NaN  \n",
       "3      Georgia State  1148640.0  \n",
       "4                NaN  5000000.0  "
      ]
     },
     "execution_count": 38,
     "metadata": {},
     "output_type": "execute_result"
    }
   ],
   "source": [
    "df.head() #print first 5 rows"
   ]
  },
  {
   "cell_type": "code",
   "execution_count": 39,
   "id": "928ed669",
   "metadata": {},
   "outputs": [
    {
     "data": {
      "text/html": [
       "<div>\n",
       "<style scoped>\n",
       "    .dataframe tbody tr th:only-of-type {\n",
       "        vertical-align: middle;\n",
       "    }\n",
       "\n",
       "    .dataframe tbody tr th {\n",
       "        vertical-align: top;\n",
       "    }\n",
       "\n",
       "    .dataframe thead th {\n",
       "        text-align: right;\n",
       "    }\n",
       "</style>\n",
       "<table border=\"1\" class=\"dataframe\">\n",
       "  <thead>\n",
       "    <tr style=\"text-align: right;\">\n",
       "      <th></th>\n",
       "      <th>Name</th>\n",
       "      <th>Team</th>\n",
       "      <th>Number</th>\n",
       "      <th>Position</th>\n",
       "      <th>Age</th>\n",
       "      <th>Height</th>\n",
       "      <th>Weight</th>\n",
       "      <th>College</th>\n",
       "      <th>Salary</th>\n",
       "    </tr>\n",
       "  </thead>\n",
       "  <tbody>\n",
       "    <tr>\n",
       "      <th>453</th>\n",
       "      <td>Shelvin Mack</td>\n",
       "      <td>Utah Jazz</td>\n",
       "      <td>8</td>\n",
       "      <td>PG</td>\n",
       "      <td>26</td>\n",
       "      <td>153</td>\n",
       "      <td>203</td>\n",
       "      <td>Butler</td>\n",
       "      <td>2433333.0</td>\n",
       "    </tr>\n",
       "    <tr>\n",
       "      <th>454</th>\n",
       "      <td>Raul Neto</td>\n",
       "      <td>Utah Jazz</td>\n",
       "      <td>25</td>\n",
       "      <td>PG</td>\n",
       "      <td>24</td>\n",
       "      <td>160</td>\n",
       "      <td>179</td>\n",
       "      <td>NaN</td>\n",
       "      <td>900000.0</td>\n",
       "    </tr>\n",
       "    <tr>\n",
       "      <th>455</th>\n",
       "      <td>Tibor Pleiss</td>\n",
       "      <td>Utah Jazz</td>\n",
       "      <td>21</td>\n",
       "      <td>C</td>\n",
       "      <td>26</td>\n",
       "      <td>155</td>\n",
       "      <td>256</td>\n",
       "      <td>NaN</td>\n",
       "      <td>2900000.0</td>\n",
       "    </tr>\n",
       "    <tr>\n",
       "      <th>456</th>\n",
       "      <td>Jeff Withey</td>\n",
       "      <td>Utah Jazz</td>\n",
       "      <td>24</td>\n",
       "      <td>C</td>\n",
       "      <td>26</td>\n",
       "      <td>165</td>\n",
       "      <td>231</td>\n",
       "      <td>Kansas</td>\n",
       "      <td>947276.0</td>\n",
       "    </tr>\n",
       "    <tr>\n",
       "      <th>457</th>\n",
       "      <td>Priyanka</td>\n",
       "      <td>Utah Jazz</td>\n",
       "      <td>34</td>\n",
       "      <td>C</td>\n",
       "      <td>25</td>\n",
       "      <td>179</td>\n",
       "      <td>231</td>\n",
       "      <td>Kansas</td>\n",
       "      <td>947276.0</td>\n",
       "    </tr>\n",
       "  </tbody>\n",
       "</table>\n",
       "</div>"
      ],
      "text/plain": [
       "             Name       Team  Number Position  Age  Height  Weight College  \\\n",
       "453  Shelvin Mack  Utah Jazz       8       PG   26     153     203  Butler   \n",
       "454     Raul Neto  Utah Jazz      25       PG   24     160     179     NaN   \n",
       "455  Tibor Pleiss  Utah Jazz      21        C   26     155     256     NaN   \n",
       "456   Jeff Withey  Utah Jazz      24        C   26     165     231  Kansas   \n",
       "457      Priyanka  Utah Jazz      34        C   25     179     231  Kansas   \n",
       "\n",
       "        Salary  \n",
       "453  2433333.0  \n",
       "454   900000.0  \n",
       "455  2900000.0  \n",
       "456   947276.0  \n",
       "457   947276.0  "
      ]
     },
     "execution_count": 39,
     "metadata": {},
     "output_type": "execute_result"
    }
   ],
   "source": [
    "df.tail() #print last 5 rows"
   ]
  },
  {
   "cell_type": "code",
   "execution_count": 22,
   "id": "333b23ff",
   "metadata": {},
   "outputs": [],
   "source": [
    "'''\n",
    "there is column named 'Height'  and the values are indicate date ,so we need to some randam values or delete the if not needed, \n",
    "in this case we can random numbers between 150 and 181\n",
    "'''\n",
    "df['Height'] = np.random.randint(150, 181, len(df))"
   ]
  },
  {
   "cell_type": "code",
   "execution_count": 23,
   "id": "30ca4896",
   "metadata": {},
   "outputs": [
    {
     "data": {
      "text/html": [
       "<div>\n",
       "<style scoped>\n",
       "    .dataframe tbody tr th:only-of-type {\n",
       "        vertical-align: middle;\n",
       "    }\n",
       "\n",
       "    .dataframe tbody tr th {\n",
       "        vertical-align: top;\n",
       "    }\n",
       "\n",
       "    .dataframe thead th {\n",
       "        text-align: right;\n",
       "    }\n",
       "</style>\n",
       "<table border=\"1\" class=\"dataframe\">\n",
       "  <thead>\n",
       "    <tr style=\"text-align: right;\">\n",
       "      <th></th>\n",
       "      <th>Name</th>\n",
       "      <th>Team</th>\n",
       "      <th>Number</th>\n",
       "      <th>Position</th>\n",
       "      <th>Age</th>\n",
       "      <th>Height</th>\n",
       "      <th>Weight</th>\n",
       "      <th>College</th>\n",
       "      <th>Salary</th>\n",
       "    </tr>\n",
       "  </thead>\n",
       "  <tbody>\n",
       "    <tr>\n",
       "      <th>count</th>\n",
       "      <td>458</td>\n",
       "      <td>458</td>\n",
       "      <td>458.000000</td>\n",
       "      <td>458</td>\n",
       "      <td>458.000000</td>\n",
       "      <td>458.000000</td>\n",
       "      <td>458.000000</td>\n",
       "      <td>374</td>\n",
       "      <td>4.470000e+02</td>\n",
       "    </tr>\n",
       "    <tr>\n",
       "      <th>unique</th>\n",
       "      <td>458</td>\n",
       "      <td>30</td>\n",
       "      <td>NaN</td>\n",
       "      <td>5</td>\n",
       "      <td>NaN</td>\n",
       "      <td>NaN</td>\n",
       "      <td>NaN</td>\n",
       "      <td>118</td>\n",
       "      <td>NaN</td>\n",
       "    </tr>\n",
       "    <tr>\n",
       "      <th>top</th>\n",
       "      <td>Avery Bradley</td>\n",
       "      <td>New Orleans Pelicans</td>\n",
       "      <td>NaN</td>\n",
       "      <td>SG</td>\n",
       "      <td>NaN</td>\n",
       "      <td>NaN</td>\n",
       "      <td>NaN</td>\n",
       "      <td>Kentucky</td>\n",
       "      <td>NaN</td>\n",
       "    </tr>\n",
       "    <tr>\n",
       "      <th>freq</th>\n",
       "      <td>1</td>\n",
       "      <td>19</td>\n",
       "      <td>NaN</td>\n",
       "      <td>102</td>\n",
       "      <td>NaN</td>\n",
       "      <td>NaN</td>\n",
       "      <td>NaN</td>\n",
       "      <td>22</td>\n",
       "      <td>NaN</td>\n",
       "    </tr>\n",
       "    <tr>\n",
       "      <th>mean</th>\n",
       "      <td>NaN</td>\n",
       "      <td>NaN</td>\n",
       "      <td>17.713974</td>\n",
       "      <td>NaN</td>\n",
       "      <td>26.934498</td>\n",
       "      <td>165.222707</td>\n",
       "      <td>221.543668</td>\n",
       "      <td>NaN</td>\n",
       "      <td>4.833970e+06</td>\n",
       "    </tr>\n",
       "    <tr>\n",
       "      <th>std</th>\n",
       "      <td>NaN</td>\n",
       "      <td>NaN</td>\n",
       "      <td>15.966837</td>\n",
       "      <td>NaN</td>\n",
       "      <td>4.400128</td>\n",
       "      <td>8.865798</td>\n",
       "      <td>26.343200</td>\n",
       "      <td>NaN</td>\n",
       "      <td>5.226620e+06</td>\n",
       "    </tr>\n",
       "    <tr>\n",
       "      <th>min</th>\n",
       "      <td>NaN</td>\n",
       "      <td>NaN</td>\n",
       "      <td>0.000000</td>\n",
       "      <td>NaN</td>\n",
       "      <td>19.000000</td>\n",
       "      <td>150.000000</td>\n",
       "      <td>161.000000</td>\n",
       "      <td>NaN</td>\n",
       "      <td>3.088800e+04</td>\n",
       "    </tr>\n",
       "    <tr>\n",
       "      <th>25%</th>\n",
       "      <td>NaN</td>\n",
       "      <td>NaN</td>\n",
       "      <td>5.000000</td>\n",
       "      <td>NaN</td>\n",
       "      <td>24.000000</td>\n",
       "      <td>158.000000</td>\n",
       "      <td>200.000000</td>\n",
       "      <td>NaN</td>\n",
       "      <td>1.025210e+06</td>\n",
       "    </tr>\n",
       "    <tr>\n",
       "      <th>50%</th>\n",
       "      <td>NaN</td>\n",
       "      <td>NaN</td>\n",
       "      <td>13.000000</td>\n",
       "      <td>NaN</td>\n",
       "      <td>26.000000</td>\n",
       "      <td>165.000000</td>\n",
       "      <td>220.000000</td>\n",
       "      <td>NaN</td>\n",
       "      <td>2.836186e+06</td>\n",
       "    </tr>\n",
       "    <tr>\n",
       "      <th>75%</th>\n",
       "      <td>NaN</td>\n",
       "      <td>NaN</td>\n",
       "      <td>25.000000</td>\n",
       "      <td>NaN</td>\n",
       "      <td>30.000000</td>\n",
       "      <td>173.000000</td>\n",
       "      <td>240.000000</td>\n",
       "      <td>NaN</td>\n",
       "      <td>6.500000e+06</td>\n",
       "    </tr>\n",
       "    <tr>\n",
       "      <th>max</th>\n",
       "      <td>NaN</td>\n",
       "      <td>NaN</td>\n",
       "      <td>99.000000</td>\n",
       "      <td>NaN</td>\n",
       "      <td>40.000000</td>\n",
       "      <td>180.000000</td>\n",
       "      <td>307.000000</td>\n",
       "      <td>NaN</td>\n",
       "      <td>2.500000e+07</td>\n",
       "    </tr>\n",
       "  </tbody>\n",
       "</table>\n",
       "</div>"
      ],
      "text/plain": [
       "                 Name                  Team      Number Position         Age  \\\n",
       "count             458                   458  458.000000      458  458.000000   \n",
       "unique            458                    30         NaN        5         NaN   \n",
       "top     Avery Bradley  New Orleans Pelicans         NaN       SG         NaN   \n",
       "freq                1                    19         NaN      102         NaN   \n",
       "mean              NaN                   NaN   17.713974      NaN   26.934498   \n",
       "std               NaN                   NaN   15.966837      NaN    4.400128   \n",
       "min               NaN                   NaN    0.000000      NaN   19.000000   \n",
       "25%               NaN                   NaN    5.000000      NaN   24.000000   \n",
       "50%               NaN                   NaN   13.000000      NaN   26.000000   \n",
       "75%               NaN                   NaN   25.000000      NaN   30.000000   \n",
       "max               NaN                   NaN   99.000000      NaN   40.000000   \n",
       "\n",
       "            Height      Weight   College        Salary  \n",
       "count   458.000000  458.000000       374  4.470000e+02  \n",
       "unique         NaN         NaN       118           NaN  \n",
       "top            NaN         NaN  Kentucky           NaN  \n",
       "freq           NaN         NaN        22           NaN  \n",
       "mean    165.222707  221.543668       NaN  4.833970e+06  \n",
       "std       8.865798   26.343200       NaN  5.226620e+06  \n",
       "min     150.000000  161.000000       NaN  3.088800e+04  \n",
       "25%     158.000000  200.000000       NaN  1.025210e+06  \n",
       "50%     165.000000  220.000000       NaN  2.836186e+06  \n",
       "75%     173.000000  240.000000       NaN  6.500000e+06  \n",
       "max     180.000000  307.000000       NaN  2.500000e+07  "
      ]
     },
     "execution_count": 23,
     "metadata": {},
     "output_type": "execute_result"
    }
   ],
   "source": [
    "df.describe(include=\"all\")\n",
    "#  the describe method is used to generate descriptive statistics of a Dataframe"
   ]
  },
  {
   "cell_type": "code",
   "execution_count": 24,
   "id": "1d092d17",
   "metadata": {},
   "outputs": [
    {
     "name": "stdout",
     "output_type": "stream",
     "text": [
      "<class 'pandas.core.frame.DataFrame'>\n",
      "RangeIndex: 458 entries, 0 to 457\n",
      "Data columns (total 9 columns):\n",
      " #   Column    Non-Null Count  Dtype  \n",
      "---  ------    --------------  -----  \n",
      " 0   Name      458 non-null    object \n",
      " 1   Team      458 non-null    object \n",
      " 2   Number    458 non-null    int64  \n",
      " 3   Position  458 non-null    object \n",
      " 4   Age       458 non-null    int64  \n",
      " 5   Height    458 non-null    int32  \n",
      " 6   Weight    458 non-null    int64  \n",
      " 7   College   374 non-null    object \n",
      " 8   Salary    447 non-null    float64\n",
      "dtypes: float64(1), int32(1), int64(3), object(4)\n",
      "memory usage: 30.5+ KB\n"
     ]
    }
   ],
   "source": [
    "df.info()\n",
    "# the info method is used to provide a concise summary of a Dataframe"
   ]
  },
  {
   "cell_type": "code",
   "execution_count": 25,
   "id": "e6f799eb",
   "metadata": {},
   "outputs": [
    {
     "data": {
      "text/plain": [
       "Name         0\n",
       "Team         0\n",
       "Number       0\n",
       "Position     0\n",
       "Age          0\n",
       "Height       0\n",
       "Weight       0\n",
       "College     84\n",
       "Salary      11\n",
       "dtype: int64"
      ]
     },
     "execution_count": 25,
     "metadata": {},
     "output_type": "execute_result"
    }
   ],
   "source": [
    "df.isnull().sum()\n",
    "#the isnull() method is used to check for missing or NaN (Not a Number) values in a DataFrame and sum() is used to find the sum of it"
   ]
  },
  {
   "cell_type": "code",
   "execution_count": 26,
   "id": "2a42c88b",
   "metadata": {},
   "outputs": [
    {
     "data": {
      "text/plain": [
       "0"
      ]
     },
     "execution_count": 26,
     "metadata": {},
     "output_type": "execute_result"
    }
   ],
   "source": [
    "df.duplicated().sum()\n",
    "# duplicated() method used to find the duplicate value in the Dataframe"
   ]
  },
  {
   "cell_type": "code",
   "execution_count": 27,
   "id": "16d3cc8f",
   "metadata": {},
   "outputs": [
    {
     "data": {
      "text/plain": [
       "Index(['Name', 'Team', 'Number', 'Position', 'Age', 'Height', 'Weight',\n",
       "       'College', 'Salary'],\n",
       "      dtype='object')"
      ]
     },
     "execution_count": 27,
     "metadata": {},
     "output_type": "execute_result"
    }
   ],
   "source": [
    "df.columns\n",
    "# columns is used to find column labels in given dataframe"
   ]
  },
  {
   "cell_type": "code",
   "execution_count": 37,
   "id": "11d5813f",
   "metadata": {},
   "outputs": [
    {
     "data": {
      "text/plain": [
       "Name         object\n",
       "Team         object\n",
       "Number        int64\n",
       "Position     object\n",
       "Age           int64\n",
       "Height        int32\n",
       "Weight        int64\n",
       "College      object\n",
       "Salary      float64\n",
       "dtype: object"
      ]
     },
     "execution_count": 37,
     "metadata": {},
     "output_type": "execute_result"
    }
   ],
   "source": [
    "df.dtypes #find datatype of columns"
   ]
  },
  {
   "cell_type": "markdown",
   "id": "92a90c55",
   "metadata": {},
   "source": [
    "## 1.How many are there in each Team and the percentage splitting with respect to the total employees."
   ]
  },
  {
   "cell_type": "code",
   "execution_count": 28,
   "id": "00ef66c3",
   "metadata": {},
   "outputs": [
    {
     "name": "stdout",
     "output_type": "stream",
     "text": [
      "Team\n",
      "New Orleans Pelicans      19\n",
      "Memphis Grizzlies         18\n",
      "Utah Jazz                 16\n",
      "New York Knicks           16\n",
      "Milwaukee Bucks           16\n",
      "Brooklyn Nets             15\n",
      "Portland Trail Blazers    15\n",
      "Oklahoma City Thunder     15\n",
      "Denver Nuggets            15\n",
      "Washington Wizards        15\n",
      "Miami Heat                15\n",
      "Charlotte Hornets         15\n",
      "Atlanta Hawks             15\n",
      "San Antonio Spurs         15\n",
      "Houston Rockets           15\n",
      "Boston Celtics            15\n",
      "Indiana Pacers            15\n",
      "Detroit Pistons           15\n",
      "Cleveland Cavaliers       15\n",
      "Chicago Bulls             15\n",
      "Sacramento Kings          15\n",
      "Phoenix Suns              15\n",
      "Los Angeles Lakers        15\n",
      "Los Angeles Clippers      15\n",
      "Golden State Warriors     15\n",
      "Toronto Raptors           15\n",
      "Philadelphia 76ers        15\n",
      "Dallas Mavericks          15\n",
      "Orlando Magic             14\n",
      "Minnesota Timberwolves    14\n",
      "Name: count, dtype: int64\n"
     ]
    }
   ],
   "source": [
    "team_counts=df['Team'].value_counts()\n",
    "print(team_counts)\n"
   ]
  },
  {
   "cell_type": "code",
   "execution_count": 40,
   "id": "b361ce32",
   "metadata": {
    "scrolled": true
   },
   "outputs": [
    {
     "name": "stdout",
     "output_type": "stream",
     "text": [
      "Team\n",
      "New Orleans Pelicans      4.15\n",
      "Memphis Grizzlies         3.93\n",
      "Utah Jazz                 3.49\n",
      "New York Knicks           3.49\n",
      "Milwaukee Bucks           3.49\n",
      "Brooklyn Nets             3.28\n",
      "Portland Trail Blazers    3.28\n",
      "Oklahoma City Thunder     3.28\n",
      "Denver Nuggets            3.28\n",
      "Washington Wizards        3.28\n",
      "Miami Heat                3.28\n",
      "Charlotte Hornets         3.28\n",
      "Atlanta Hawks             3.28\n",
      "San Antonio Spurs         3.28\n",
      "Houston Rockets           3.28\n",
      "Boston Celtics            3.28\n",
      "Indiana Pacers            3.28\n",
      "Detroit Pistons           3.28\n",
      "Cleveland Cavaliers       3.28\n",
      "Chicago Bulls             3.28\n",
      "Sacramento Kings          3.28\n",
      "Phoenix Suns              3.28\n",
      "Los Angeles Lakers        3.28\n",
      "Los Angeles Clippers      3.28\n",
      "Golden State Warriors     3.28\n",
      "Toronto Raptors           3.28\n",
      "Philadelphia 76ers        3.28\n",
      "Dallas Mavericks          3.28\n",
      "Orlando Magic             3.06\n",
      "Minnesota Timberwolves    3.06\n",
      "Name: count, dtype: float64\n"
     ]
    }
   ],
   "source": [
    "team_percentages = (team_counts / len(df)) * 100\n",
    "print(team_percentages.round(2))"
   ]
  },
  {
   "cell_type": "markdown",
   "id": "1d2c2d99",
   "metadata": {},
   "source": [
    "## 2.Segregate the employees w.r.t different positions."
   ]
  },
  {
   "cell_type": "code",
   "execution_count": 30,
   "id": "a5863cc3",
   "metadata": {},
   "outputs": [
    {
     "name": "stdout",
     "output_type": "stream",
     "text": [
      "              Name Position\n",
      "0    Avery Bradley       PG\n",
      "1      Jae Crowder       SF\n",
      "2     John Holland       SG\n",
      "3      R.J. Hunter       SG\n",
      "4    Jonas Jerebko       PF\n",
      "..             ...      ...\n",
      "453   Shelvin Mack       PG\n",
      "454      Raul Neto       PG\n",
      "455   Tibor Pleiss        C\n",
      "456    Jeff Withey        C\n",
      "457       Priyanka        C\n",
      "\n",
      "[458 rows x 2 columns]\n"
     ]
    },
    {
     "data": {
      "text/plain": [
       "Position\n",
       "C      79\n",
       "PF    100\n",
       "PG     92\n",
       "SF     85\n",
       "SG    102\n",
       "Name: count, dtype: int64"
      ]
     },
     "execution_count": 30,
     "metadata": {},
     "output_type": "execute_result"
    }
   ],
   "source": [
    "print(df[['Name','Position']])\n",
    "df['Position'].value_counts().sort_index()"
   ]
  },
  {
   "cell_type": "markdown",
   "id": "303a217b",
   "metadata": {},
   "source": [
    "## 3.Find from which age group most of the employees belong to."
   ]
  },
  {
   "cell_type": "code",
   "execution_count": 31,
   "id": "4219679f",
   "metadata": {
    "scrolled": true
   },
   "outputs": [
    {
     "name": "stdout",
     "output_type": "stream",
     "text": [
      "\n",
      "Most employees belong to the age group: 24\n"
     ]
    }
   ],
   "source": [
    "age_group_counts = df['Age'].value_counts()\n",
    "most_common_age_group = age_group_counts.idxmax()\n",
    "print(f\"\\nMost employees belong to the age group: {most_common_age_group}\")"
   ]
  },
  {
   "cell_type": "code",
   "execution_count": 32,
   "id": "65398488",
   "metadata": {},
   "outputs": [
    {
     "data": {
      "image/png": "[encoded data removed]",
      "text/plain": [
       "<Figure size 640x480 with 1 Axes>"
      ]
     },
     "metadata": {},
     "output_type": "display_data"
    }
   ],
   "source": [
    "\n",
    "plt.bar(age_group_counts.index, age_group_counts.values)\n",
    "plt.xlabel('Age Group')\n",
    "plt.ylabel('Number of Employees')\n",
    "plt.title('Distribution of Employees by Age Group')\n",
    "plt.show()"
   ]
  },
  {
   "cell_type": "markdown",
   "id": "a86433e6",
   "metadata": {},
   "source": [
    "## 4.Find out under which team and position, spending in terms of salary is high."
   ]
  },
  {
   "cell_type": "code",
   "execution_count": 33,
   "id": "8017cbd8",
   "metadata": {},
   "outputs": [
    {
     "name": "stdout",
     "output_type": "stream",
     "text": [
      "                   Team Position      Salary\n",
      "109  Los Angeles Lakers       SF  25000000.0\n"
     ]
    }
   ],
   "source": [
    "team_salary=df.Salary.max()\n",
    "max_salary_row = df[df['Salary'] == team_salary]\n",
    "team_and_position_high_salary = max_salary_row[['Team', 'Position','Salary']]\n",
    "print(team_and_position_high_salary)"
   ]
  },
  {
   "cell_type": "markdown",
   "id": "2e2f645b",
   "metadata": {},
   "source": [
    "### 5.Find if there is any correlation between age and salary "
   ]
  },
  {
   "cell_type": "code",
   "execution_count": 34,
   "id": "81315080",
   "metadata": {},
   "outputs": [
    {
     "data": {
      "text/html": [
       "<div>\n",
       "<style scoped>\n",
       "    .dataframe tbody tr th:only-of-type {\n",
       "        vertical-align: middle;\n",
       "    }\n",
       "\n",
       "    .dataframe tbody tr th {\n",
       "        vertical-align: top;\n",
       "    }\n",
       "\n",
       "    .dataframe thead th {\n",
       "        text-align: right;\n",
       "    }\n",
       "</style>\n",
       "<table border=\"1\" class=\"dataframe\">\n",
       "  <thead>\n",
       "    <tr style=\"text-align: right;\">\n",
       "      <th></th>\n",
       "      <th>Age</th>\n",
       "      <th>Salary</th>\n",
       "    </tr>\n",
       "  </thead>\n",
       "  <tbody>\n",
       "    <tr>\n",
       "      <th>0</th>\n",
       "      <td>25</td>\n",
       "      <td>7730337.0</td>\n",
       "    </tr>\n",
       "    <tr>\n",
       "      <th>1</th>\n",
       "      <td>25</td>\n",
       "      <td>6796117.0</td>\n",
       "    </tr>\n",
       "    <tr>\n",
       "      <th>2</th>\n",
       "      <td>27</td>\n",
       "      <td>NaN</td>\n",
       "    </tr>\n",
       "    <tr>\n",
       "      <th>3</th>\n",
       "      <td>22</td>\n",
       "      <td>1148640.0</td>\n",
       "    </tr>\n",
       "    <tr>\n",
       "      <th>4</th>\n",
       "      <td>29</td>\n",
       "      <td>5000000.0</td>\n",
       "    </tr>\n",
       "    <tr>\n",
       "      <th>...</th>\n",
       "      <td>...</td>\n",
       "      <td>...</td>\n",
       "    </tr>\n",
       "    <tr>\n",
       "      <th>453</th>\n",
       "      <td>26</td>\n",
       "      <td>2433333.0</td>\n",
       "    </tr>\n",
       "    <tr>\n",
       "      <th>454</th>\n",
       "      <td>24</td>\n",
       "      <td>900000.0</td>\n",
       "    </tr>\n",
       "    <tr>\n",
       "      <th>455</th>\n",
       "      <td>26</td>\n",
       "      <td>2900000.0</td>\n",
       "    </tr>\n",
       "    <tr>\n",
       "      <th>456</th>\n",
       "      <td>26</td>\n",
       "      <td>947276.0</td>\n",
       "    </tr>\n",
       "    <tr>\n",
       "      <th>457</th>\n",
       "      <td>25</td>\n",
       "      <td>947276.0</td>\n",
       "    </tr>\n",
       "  </tbody>\n",
       "</table>\n",
       "<p>458 rows × 2 columns</p>\n",
       "</div>"
      ],
      "text/plain": [
       "     Age     Salary\n",
       "0     25  7730337.0\n",
       "1     25  6796117.0\n",
       "2     27        NaN\n",
       "3     22  1148640.0\n",
       "4     29  5000000.0\n",
       "..   ...        ...\n",
       "453   26  2433333.0\n",
       "454   24   900000.0\n",
       "455   26  2900000.0\n",
       "456   26   947276.0\n",
       "457   25   947276.0\n",
       "\n",
       "[458 rows x 2 columns]"
      ]
     },
     "execution_count": 34,
     "metadata": {},
     "output_type": "execute_result"
    }
   ],
   "source": [
    "df[['Age','Salary']]"
   ]
  },
  {
   "cell_type": "code",
   "execution_count": 35,
   "id": "d494ae44",
   "metadata": {
    "scrolled": true
   },
   "outputs": [
    {
     "data": {
      "image/png": "[encoded data removed]",
      "text/plain": [
       "<Figure size 640x480 with 1 Axes>"
      ]
     },
     "metadata": {},
     "output_type": "display_data"
    }
   ],
   "source": [
    "Age=df['Age']\n",
    "Salary=df['Salary']\n",
    "plt.scatter(Age,Salary,color='y')\n",
    "plt.xlabel('Age',color='b')\n",
    "plt.ylabel('Salary',color='g')\n",
    "plt.show()"
   ]
  },
  {
   "cell_type": "code",
   "execution_count": 36,
   "id": "338e2d4c",
   "metadata": {
    "scrolled": true
   },
   "outputs": [
    {
     "data": {
      "text/plain": [
       "0.21400941226570955"
      ]
     },
     "execution_count": 36,
     "metadata": {},
     "output_type": "execute_result"
    }
   ],
   "source": [
    "correlation_coefficient = df[['Age', 'Salary']].corr().loc['Age', 'Salary']\n",
    "correlation_coefficient"
   ]
  }
 ],
 "metadata": {
  "kernelspec": {
   "display_name": "Python 3 (ipykernel)",
   "language": "python",
   "name": "python3"
  },
  "language_info": {
   "codemirror_mode": {
    "name": "ipython",
    "version": 3
   },
   "file_extension": ".py",
   "mimetype": "text/x-python",
   "name": "python",
   "nbconvert_exporter": "python",
   "pygments_lexer": "ipython3",
   "version": "3.11.2"
  }
 },
 "nbformat": 4,
 "nbformat_minor": 5
}
